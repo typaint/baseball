{
 "cells": [
  {
   "cell_type": "code",
   "execution_count": 1,
   "id": "a10bbd85",
   "metadata": {},
   "outputs": [],
   "source": [
    "import pandas as pd\n",
    "import matplotlib.pyplot as plt"
   ]
  },
  {
   "cell_type": "code",
   "execution_count": 2,
   "id": "7082c585",
   "metadata": {},
   "outputs": [
    {
     "data": {
      "text/html": [
       "<div>\n",
       "<style scoped>\n",
       "    .dataframe tbody tr th:only-of-type {\n",
       "        vertical-align: middle;\n",
       "    }\n",
       "\n",
       "    .dataframe tbody tr th {\n",
       "        vertical-align: top;\n",
       "    }\n",
       "\n",
       "    .dataframe thead th {\n",
       "        text-align: right;\n",
       "    }\n",
       "</style>\n",
       "<table border=\"1\" class=\"dataframe\">\n",
       "  <thead>\n",
       "    <tr style=\"text-align: right;\">\n",
       "      <th></th>\n",
       "      <th>pitch_type</th>\n",
       "      <th>event_num</th>\n",
       "      <th>b_score</th>\n",
       "      <th>ab_id</th>\n",
       "      <th>b_count</th>\n",
       "      <th>s_count</th>\n",
       "      <th>outs</th>\n",
       "      <th>pitch_num</th>\n",
       "      <th>on_1b</th>\n",
       "      <th>on_2b</th>\n",
       "      <th>...</th>\n",
       "      <th>batter_id</th>\n",
       "      <th>pitcher_id</th>\n",
       "      <th>stand</th>\n",
       "      <th>p_throws</th>\n",
       "      <th>event</th>\n",
       "      <th>o</th>\n",
       "      <th>batter_fname</th>\n",
       "      <th>batter_lname</th>\n",
       "      <th>pitcher_fname</th>\n",
       "      <th>pitcher_lname</th>\n",
       "    </tr>\n",
       "  </thead>\n",
       "  <tbody>\n",
       "    <tr>\n",
       "      <th>0</th>\n",
       "      <td>FF</td>\n",
       "      <td>5</td>\n",
       "      <td>0.0</td>\n",
       "      <td>2.019000e+09</td>\n",
       "      <td>0.0</td>\n",
       "      <td>0.0</td>\n",
       "      <td>0.0</td>\n",
       "      <td>1.0</td>\n",
       "      <td>0.0</td>\n",
       "      <td>0.0</td>\n",
       "      <td>...</td>\n",
       "      <td>594777</td>\n",
       "      <td>571666</td>\n",
       "      <td>L</td>\n",
       "      <td>R</td>\n",
       "      <td>Flyout</td>\n",
       "      <td>1</td>\n",
       "      <td>Kole</td>\n",
       "      <td>Calhoun</td>\n",
       "      <td>Mike</td>\n",
       "      <td>Fiers</td>\n",
       "    </tr>\n",
       "    <tr>\n",
       "      <th>1</th>\n",
       "      <td>FF</td>\n",
       "      <td>107</td>\n",
       "      <td>0.0</td>\n",
       "      <td>2.019000e+09</td>\n",
       "      <td>0.0</td>\n",
       "      <td>0.0</td>\n",
       "      <td>2.0</td>\n",
       "      <td>1.0</td>\n",
       "      <td>0.0</td>\n",
       "      <td>0.0</td>\n",
       "      <td>...</td>\n",
       "      <td>594777</td>\n",
       "      <td>571666</td>\n",
       "      <td>L</td>\n",
       "      <td>R</td>\n",
       "      <td>Flyout</td>\n",
       "      <td>3</td>\n",
       "      <td>Kole</td>\n",
       "      <td>Calhoun</td>\n",
       "      <td>Mike</td>\n",
       "      <td>Fiers</td>\n",
       "    </tr>\n",
       "    <tr>\n",
       "      <th>2</th>\n",
       "      <td>FT</td>\n",
       "      <td>108</td>\n",
       "      <td>0.0</td>\n",
       "      <td>2.019000e+09</td>\n",
       "      <td>1.0</td>\n",
       "      <td>0.0</td>\n",
       "      <td>2.0</td>\n",
       "      <td>2.0</td>\n",
       "      <td>0.0</td>\n",
       "      <td>0.0</td>\n",
       "      <td>...</td>\n",
       "      <td>594777</td>\n",
       "      <td>571666</td>\n",
       "      <td>L</td>\n",
       "      <td>R</td>\n",
       "      <td>Flyout</td>\n",
       "      <td>3</td>\n",
       "      <td>Kole</td>\n",
       "      <td>Calhoun</td>\n",
       "      <td>Mike</td>\n",
       "      <td>Fiers</td>\n",
       "    </tr>\n",
       "    <tr>\n",
       "      <th>3</th>\n",
       "      <td>CU</td>\n",
       "      <td>109</td>\n",
       "      <td>0.0</td>\n",
       "      <td>2.019000e+09</td>\n",
       "      <td>1.0</td>\n",
       "      <td>0.0</td>\n",
       "      <td>2.0</td>\n",
       "      <td>3.0</td>\n",
       "      <td>0.0</td>\n",
       "      <td>0.0</td>\n",
       "      <td>...</td>\n",
       "      <td>594777</td>\n",
       "      <td>571666</td>\n",
       "      <td>L</td>\n",
       "      <td>R</td>\n",
       "      <td>Flyout</td>\n",
       "      <td>3</td>\n",
       "      <td>Kole</td>\n",
       "      <td>Calhoun</td>\n",
       "      <td>Mike</td>\n",
       "      <td>Fiers</td>\n",
       "    </tr>\n",
       "    <tr>\n",
       "      <th>4</th>\n",
       "      <td>CH</td>\n",
       "      <td>110</td>\n",
       "      <td>0.0</td>\n",
       "      <td>2.019000e+09</td>\n",
       "      <td>2.0</td>\n",
       "      <td>0.0</td>\n",
       "      <td>2.0</td>\n",
       "      <td>4.0</td>\n",
       "      <td>0.0</td>\n",
       "      <td>0.0</td>\n",
       "      <td>...</td>\n",
       "      <td>594777</td>\n",
       "      <td>571666</td>\n",
       "      <td>L</td>\n",
       "      <td>R</td>\n",
       "      <td>Flyout</td>\n",
       "      <td>3</td>\n",
       "      <td>Kole</td>\n",
       "      <td>Calhoun</td>\n",
       "      <td>Mike</td>\n",
       "      <td>Fiers</td>\n",
       "    </tr>\n",
       "  </tbody>\n",
       "</table>\n",
       "<p>5 rows × 25 columns</p>\n",
       "</div>"
      ],
      "text/plain": [
       "  pitch_type  event_num  b_score         ab_id  b_count  s_count  outs  \\\n",
       "0         FF          5      0.0  2.019000e+09      0.0      0.0   0.0   \n",
       "1         FF        107      0.0  2.019000e+09      0.0      0.0   2.0   \n",
       "2         FT        108      0.0  2.019000e+09      1.0      0.0   2.0   \n",
       "3         CU        109      0.0  2.019000e+09      1.0      0.0   2.0   \n",
       "4         CH        110      0.0  2.019000e+09      2.0      0.0   2.0   \n",
       "\n",
       "   pitch_num  on_1b  on_2b  ...  batter_id  pitcher_id  stand  p_throws  \\\n",
       "0        1.0    0.0    0.0  ...     594777      571666      L         R   \n",
       "1        1.0    0.0    0.0  ...     594777      571666      L         R   \n",
       "2        2.0    0.0    0.0  ...     594777      571666      L         R   \n",
       "3        3.0    0.0    0.0  ...     594777      571666      L         R   \n",
       "4        4.0    0.0    0.0  ...     594777      571666      L         R   \n",
       "\n",
       "    event  o  batter_fname batter_lname pitcher_fname pitcher_lname  \n",
       "0  Flyout  1          Kole      Calhoun          Mike         Fiers  \n",
       "1  Flyout  3          Kole      Calhoun          Mike         Fiers  \n",
       "2  Flyout  3          Kole      Calhoun          Mike         Fiers  \n",
       "3  Flyout  3          Kole      Calhoun          Mike         Fiers  \n",
       "4  Flyout  3          Kole      Calhoun          Mike         Fiers  \n",
       "\n",
       "[5 rows x 25 columns]"
      ]
     },
     "execution_count": 2,
     "metadata": {},
     "output_type": "execute_result"
    }
   ],
   "source": [
    "df = pd.read_csv(\"../99-data/joined_data.csv.zip\")\n",
    "df.head()"
   ]
  },
  {
   "cell_type": "code",
   "execution_count": 3,
   "id": "1f17a150",
   "metadata": {},
   "outputs": [
    {
     "data": {
      "text/plain": [
       "807"
      ]
     },
     "execution_count": 3,
     "metadata": {},
     "output_type": "execute_result"
    }
   ],
   "source": [
    "len(df.batter_id.unique())"
   ]
  },
  {
   "cell_type": "code",
   "execution_count": 4,
   "id": "450ac932",
   "metadata": {},
   "outputs": [
    {
     "data": {
      "text/plain": [
       "668"
      ]
     },
     "execution_count": 4,
     "metadata": {},
     "output_type": "execute_result"
    }
   ],
   "source": [
    "len(df.pitcher_id.unique())"
   ]
  },
  {
   "cell_type": "code",
   "execution_count": 5,
   "id": "f60bd211",
   "metadata": {
    "scrolled": true
   },
   "outputs": [
    {
     "data": {
      "text/plain": [
       "Text(0.5, 1.0, 'Batter and Pitcher Counts')"
      ]
     },
     "execution_count": 5,
     "metadata": {},
     "output_type": "execute_result"
    },
    {
     "data": {
      "image/png": "[encoded data removed]",
      "text/plain": [
       "<Figure size 432x288 with 1 Axes>"
      ]
     },
     "metadata": {
      "needs_background": "light"
     },
     "output_type": "display_data"
    }
   ],
   "source": [
    "b_p_count = pd.DataFrame({'Player':['Pitcher', 'Batter'], 'Count':[len(df.pitcher_id.unique()), len(df.batter_id.unique())]})\n",
    "ax = b_p_count.plot.bar(x='Player', y='Count', rot=0)\n",
    "ax.set_title(\"Batter and Pitcher Counts\")"
   ]
  },
  {
   "cell_type": "code",
   "execution_count": 6,
   "id": "81a20f55",
   "metadata": {},
   "outputs": [
    {
     "data": {
      "text/plain": [
       "Index(['pitch_type', 'event_num', 'b_score', 'ab_id', 'b_count', 's_count',\n",
       "       'outs', 'pitch_num', 'on_1b', 'on_2b', 'on_3b', 'inning', 'top', 'g_id',\n",
       "       'p_score', 'batter_id', 'pitcher_id', 'stand', 'p_throws', 'event', 'o',\n",
       "       'batter_fname', 'batter_lname', 'pitcher_fname', 'pitcher_lname'],\n",
       "      dtype='object')"
      ]
     },
     "execution_count": 6,
     "metadata": {},
     "output_type": "execute_result"
    }
   ],
   "source": [
    "df.columns"
   ]
  },
  {
   "cell_type": "code",
   "execution_count": 13,
   "id": "dd047210",
   "metadata": {},
   "outputs": [],
   "source": [
    "pitch_type_count = pd.DataFrame(df.pitch_type.value_counts())\n",
    "# ax = pitch_type_count.plot.bar(x='Player', y='Count', rot=0)\n",
    "# ax.set_title(\"Batter and Pitcher Counts\")"
   ]
  },
  {
   "cell_type": "code",
   "execution_count": null,
   "id": "705e8cfc",
   "metadata": {},
   "outputs": [],
   "source": []
  }
 ],
 "metadata": {
  "kernelspec": {
   "display_name": "Python 3",
   "language": "python",
   "name": "python3"
  },
  "language_info": {
   "codemirror_mode": {
    "name": "ipython",
    "version": 3
   },
   "file_extension": ".py",
   "mimetype": "text/x-python",
   "name": "python",
   "nbconvert_exporter": "python",
   "pygments_lexer": "ipython3",
   "version": "3.8.3"
  },
  "toc": {
   "base_numbering": 1,
   "nav_menu": {},
   "number_sections": true,
   "sideBar": true,
   "skip_h1_title": false,
   "title_cell": "Table of Contents",
   "title_sidebar": "Contents",
   "toc_cell": false,
   "toc_position": {},
   "toc_section_display": true,
   "toc_window_display": false
  }
 },
 "nbformat": 4,
 "nbformat_minor": 5
}
