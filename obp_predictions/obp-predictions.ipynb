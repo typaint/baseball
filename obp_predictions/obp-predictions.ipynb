{
 "cells": [
  {
   "cell_type": "markdown",
   "id": "852bf229",
   "metadata": {},
   "source": [
    "# Task\n",
    "\n",
    "Predict each player’s on-base percentage at the end of the 2019 season given his batting statistics in March/April 2019. You are to use the first 28 columns to create your prediction and the final column, FullSeason_OBP to test your prediction accuracy."
   ]
  },
  {
   "cell_type": "markdown",
   "id": "8296b37e",
   "metadata": {},
   "source": [
    "# EDA"
   ]
  },
  {
   "cell_type": "code",
   "execution_count": 1,
   "id": "f176f32b",
   "metadata": {},
   "outputs": [
    {
     "data": {
      "text/html": [
       "<div>\n",
       "<style scoped>\n",
       "    .dataframe tbody tr th:only-of-type {\n",
       "        vertical-align: middle;\n",
       "    }\n",
       "\n",
       "    .dataframe tbody tr th {\n",
       "        vertical-align: top;\n",
       "    }\n",
       "\n",
       "    .dataframe thead th {\n",
       "        text-align: right;\n",
       "    }\n",
       "</style>\n",
       "<table border=\"1\" class=\"dataframe\">\n",
       "  <thead>\n",
       "    <tr style=\"text-align: right;\">\n",
       "      <th></th>\n",
       "      <th>playerid</th>\n",
       "      <th>Name</th>\n",
       "      <th>Team</th>\n",
       "      <th>MarApr_PA</th>\n",
       "      <th>MarApr_AB</th>\n",
       "      <th>MarApr_H</th>\n",
       "      <th>MarApr_HR</th>\n",
       "      <th>MarApr_R</th>\n",
       "      <th>MarApr_RBI</th>\n",
       "      <th>MarApr_SB</th>\n",
       "      <th>...</th>\n",
       "      <th>MarApr_FB%</th>\n",
       "      <th>MarApr_IFFB%</th>\n",
       "      <th>MarApr_HR/FB</th>\n",
       "      <th>MarApr_O-Swing%</th>\n",
       "      <th>MarApr_Z-Swing%</th>\n",
       "      <th>MarApr_Swing%</th>\n",
       "      <th>MarApr_O-Contact%</th>\n",
       "      <th>MarApr_Z-Contact%</th>\n",
       "      <th>MarApr_Contact%</th>\n",
       "      <th>FullSeason_OBP</th>\n",
       "    </tr>\n",
       "  </thead>\n",
       "  <tbody>\n",
       "    <tr>\n",
       "      <th>0</th>\n",
       "      <td>15998</td>\n",
       "      <td>Cody Bellinger</td>\n",
       "      <td>LAD</td>\n",
       "      <td>132</td>\n",
       "      <td>109</td>\n",
       "      <td>47</td>\n",
       "      <td>14</td>\n",
       "      <td>32</td>\n",
       "      <td>37</td>\n",
       "      <td>5</td>\n",
       "      <td>...</td>\n",
       "      <td>36.1%</td>\n",
       "      <td>5.7%</td>\n",
       "      <td>40.0%</td>\n",
       "      <td>22.6%</td>\n",
       "      <td>66.0%</td>\n",
       "      <td>40.7%</td>\n",
       "      <td>81.1%</td>\n",
       "      <td>88.4%</td>\n",
       "      <td>86.0%</td>\n",
       "      <td>0.406</td>\n",
       "    </tr>\n",
       "    <tr>\n",
       "      <th>1</th>\n",
       "      <td>11477</td>\n",
       "      <td>Christian Yelich</td>\n",
       "      <td>MIL</td>\n",
       "      <td>124</td>\n",
       "      <td>102</td>\n",
       "      <td>36</td>\n",
       "      <td>14</td>\n",
       "      <td>26</td>\n",
       "      <td>34</td>\n",
       "      <td>6</td>\n",
       "      <td>...</td>\n",
       "      <td>41.0%</td>\n",
       "      <td>11.8%</td>\n",
       "      <td>41.2%</td>\n",
       "      <td>27.9%</td>\n",
       "      <td>72.4%</td>\n",
       "      <td>44.8%</td>\n",
       "      <td>56.6%</td>\n",
       "      <td>87.8%</td>\n",
       "      <td>75.7%</td>\n",
       "      <td>0.429</td>\n",
       "    </tr>\n",
       "    <tr>\n",
       "      <th>2</th>\n",
       "      <td>17975</td>\n",
       "      <td>Scott Kingery</td>\n",
       "      <td>PHI</td>\n",
       "      <td>35</td>\n",
       "      <td>32</td>\n",
       "      <td>13</td>\n",
       "      <td>2</td>\n",
       "      <td>5</td>\n",
       "      <td>6</td>\n",
       "      <td>1</td>\n",
       "      <td>...</td>\n",
       "      <td>33.3%</td>\n",
       "      <td>0.0%</td>\n",
       "      <td>22.2%</td>\n",
       "      <td>40.2%</td>\n",
       "      <td>74.5%</td>\n",
       "      <td>53.5%</td>\n",
       "      <td>54.3%</td>\n",
       "      <td>85.4%</td>\n",
       "      <td>71.1%</td>\n",
       "      <td>0.315</td>\n",
       "    </tr>\n",
       "    <tr>\n",
       "      <th>3</th>\n",
       "      <td>7927</td>\n",
       "      <td>Eric Sogard</td>\n",
       "      <td>TOR</td>\n",
       "      <td>49</td>\n",
       "      <td>43</td>\n",
       "      <td>17</td>\n",
       "      <td>3</td>\n",
       "      <td>8</td>\n",
       "      <td>9</td>\n",
       "      <td>2</td>\n",
       "      <td>...</td>\n",
       "      <td>40.5%</td>\n",
       "      <td>0.0%</td>\n",
       "      <td>20.0%</td>\n",
       "      <td>27.3%</td>\n",
       "      <td>50.5%</td>\n",
       "      <td>37.3%</td>\n",
       "      <td>93.9%</td>\n",
       "      <td>97.8%</td>\n",
       "      <td>96.2%</td>\n",
       "      <td>0.353</td>\n",
       "    </tr>\n",
       "    <tr>\n",
       "      <th>4</th>\n",
       "      <td>14130</td>\n",
       "      <td>Daniel Vogelbach</td>\n",
       "      <td>SEA</td>\n",
       "      <td>92</td>\n",
       "      <td>71</td>\n",
       "      <td>22</td>\n",
       "      <td>8</td>\n",
       "      <td>15</td>\n",
       "      <td>16</td>\n",
       "      <td>0</td>\n",
       "      <td>...</td>\n",
       "      <td>51.9%</td>\n",
       "      <td>7.4%</td>\n",
       "      <td>29.6%</td>\n",
       "      <td>23.7%</td>\n",
       "      <td>48.8%</td>\n",
       "      <td>33.7%</td>\n",
       "      <td>66.1%</td>\n",
       "      <td>82.7%</td>\n",
       "      <td>75.7%</td>\n",
       "      <td>0.341</td>\n",
       "    </tr>\n",
       "  </tbody>\n",
       "</table>\n",
       "<p>5 rows × 29 columns</p>\n",
       "</div>"
      ],
      "text/plain": [
       "   playerid              Name Team  MarApr_PA  MarApr_AB  MarApr_H  MarApr_HR  \\\n",
       "0     15998    Cody Bellinger  LAD        132        109        47         14   \n",
       "1     11477  Christian Yelich  MIL        124        102        36         14   \n",
       "2     17975     Scott Kingery  PHI         35         32        13          2   \n",
       "3      7927       Eric Sogard  TOR         49         43        17          3   \n",
       "4     14130  Daniel Vogelbach  SEA         92         71        22          8   \n",
       "\n",
       "   MarApr_R  MarApr_RBI  MarApr_SB  ... MarApr_FB% MarApr_IFFB%  MarApr_HR/FB  \\\n",
       "0        32          37          5  ...      36.1%         5.7%         40.0%   \n",
       "1        26          34          6  ...      41.0%        11.8%         41.2%   \n",
       "2         5           6          1  ...      33.3%         0.0%         22.2%   \n",
       "3         8           9          2  ...      40.5%         0.0%         20.0%   \n",
       "4        15          16          0  ...      51.9%         7.4%         29.6%   \n",
       "\n",
       "   MarApr_O-Swing%  MarApr_Z-Swing%  MarApr_Swing%  MarApr_O-Contact%  \\\n",
       "0            22.6%            66.0%          40.7%              81.1%   \n",
       "1            27.9%            72.4%          44.8%              56.6%   \n",
       "2            40.2%            74.5%          53.5%              54.3%   \n",
       "3            27.3%            50.5%          37.3%              93.9%   \n",
       "4            23.7%            48.8%          33.7%              66.1%   \n",
       "\n",
       "  MarApr_Z-Contact% MarApr_Contact% FullSeason_OBP  \n",
       "0             88.4%           86.0%          0.406  \n",
       "1             87.8%           75.7%          0.429  \n",
       "2             85.4%           71.1%          0.315  \n",
       "3             97.8%           96.2%          0.353  \n",
       "4             82.7%           75.7%          0.341  \n",
       "\n",
       "[5 rows x 29 columns]"
      ]
     },
     "execution_count": 1,
     "metadata": {},
     "output_type": "execute_result"
    }
   ],
   "source": [
    "# Load data\n",
    "import pandas as pd\n",
    "df = pd.read_csv(\"batting.csv\")\n",
    "df.head()"
   ]
  },
  {
   "cell_type": "code",
   "execution_count": 2,
   "id": "c8b845e8",
   "metadata": {},
   "outputs": [
    {
     "data": {
      "text/plain": [
       "(320, 29)"
      ]
     },
     "execution_count": 2,
     "metadata": {},
     "output_type": "execute_result"
    }
   ],
   "source": [
    "df.shape"
   ]
  },
  {
   "cell_type": "markdown",
   "id": "a62b615d",
   "metadata": {},
   "source": [
    "## Data Cleaning"
   ]
  },
  {
   "cell_type": "markdown",
   "id": "aa049d12",
   "metadata": {},
   "source": [
    "- Some columns represented as percentages are of type string. These must be converted floats to before any modeling can occur. The function below that converts string percents to floats was pulled from the following [link](https://stackoverflow.com/questions/12432663/what-is-a-clean-way-to-convert-a-string-percent-to-a-float)."
   ]
  },
  {
   "cell_type": "code",
   "execution_count": 3,
   "id": "9da1d87b",
   "metadata": {},
   "outputs": [],
   "source": [
    "def p2f(x): \n",
    "    return x.apply(lambda x: round(float(x.strip('%'))/100,4))"
   ]
  },
  {
   "cell_type": "code",
   "execution_count": 4,
   "id": "ce813319",
   "metadata": {},
   "outputs": [],
   "source": [
    "percent_cols = [\"MarApr_BB%\", \"MarApr_K%\", \"MarApr_LD%\", \"MarApr_GB%\", \"MarApr_FB%\", \"MarApr_IFFB%\", \"MarApr_HR/FB\", \"MarApr_O-Swing%\", \"MarApr_Z-Swing%\", \"MarApr_Swing%\", \"MarApr_O-Contact%\", \"MarApr_Z-Contact%\", \"MarApr_Contact%\"]"
   ]
  },
  {
   "cell_type": "code",
   "execution_count": 5,
   "id": "7d91cb57",
   "metadata": {},
   "outputs": [],
   "source": [
    "for i in percent_cols:\n",
    "    df[i] = p2f(df[i])"
   ]
  },
  {
   "cell_type": "markdown",
   "id": "6ff4200e",
   "metadata": {},
   "source": [
    "- Runs and Stolen Base are statistics do no contribute to a batter getting on base. Rather they are a result that occurs once the batter has already gotten on base. Because of this I decided to remove them from the dataset."
   ]
  },
  {
   "cell_type": "code",
   "execution_count": 6,
   "id": "071f10a0",
   "metadata": {},
   "outputs": [
    {
     "data": {
      "text/plain": [
       "Index(['playerid', 'Name', 'Team', 'MarApr_PA', 'MarApr_AB', 'MarApr_H',\n",
       "       'MarApr_HR', 'MarApr_RBI', 'MarApr_BB%', 'MarApr_K%', 'MarApr_ISO',\n",
       "       'MarApr_BABIP', 'MarApr_AVG', 'MarApr_OBP', 'MarApr_SLG', 'MarApr_LD%',\n",
       "       'MarApr_GB%', 'MarApr_FB%', 'MarApr_IFFB%', 'MarApr_HR/FB',\n",
       "       'MarApr_O-Swing%', 'MarApr_Z-Swing%', 'MarApr_Swing%',\n",
       "       'MarApr_O-Contact%', 'MarApr_Z-Contact%', 'MarApr_Contact%',\n",
       "       'FullSeason_OBP'],\n",
       "      dtype='object')"
      ]
     },
     "execution_count": 6,
     "metadata": {},
     "output_type": "execute_result"
    }
   ],
   "source": [
    "drop_cols = [\"MarApr_R\", \"MarApr_SB\"]\n",
    "df = df.drop(columns=drop_cols)\n",
    "df.columns"
   ]
  },
  {
   "cell_type": "markdown",
   "id": "9c26a889",
   "metadata": {},
   "source": [
    "- The playerid column is currently an integer and since no calculations will be performed on this column it should be converted to a string."
   ]
  },
  {
   "cell_type": "code",
   "execution_count": 7,
   "id": "acb0988b",
   "metadata": {},
   "outputs": [],
   "source": [
    "def int2str(x): \n",
    "    return x.apply(lambda x: str(x))"
   ]
  },
  {
   "cell_type": "code",
   "execution_count": 8,
   "id": "51b87500",
   "metadata": {},
   "outputs": [
    {
     "data": {
      "text/plain": [
       "0      15998\n",
       "1      11477\n",
       "2      17975\n",
       "3       7927\n",
       "4      14130\n",
       "       ...  \n",
       "315    12984\n",
       "316     9253\n",
       "317    16357\n",
       "318     6848\n",
       "319    16623\n",
       "Name: playerid, Length: 320, dtype: object"
      ]
     },
     "execution_count": 8,
     "metadata": {},
     "output_type": "execute_result"
    }
   ],
   "source": [
    "df[\"playerid\"] = int2str(df[\"playerid\"])\n",
    "df[\"playerid\"]"
   ]
  },
  {
   "cell_type": "markdown",
   "id": "d166ff8f",
   "metadata": {},
   "source": [
    "## Feature Engineering"
   ]
  },
  {
   "cell_type": "markdown",
   "id": "9375a69c",
   "metadata": {},
   "source": [
    "- The dataset includes enough statistics that not much feature engineering should be required. However, given hitter BB% and K%, it could be potentially useful to generate the raw BB and K counts. This could be redundant when passing inputs into the model but that will be evaluated at a later time. \n",
    "\n",
    "- BB% and K% are calculated using plate appearances, so I will multiply those percentages by PA to get the BB and K raw counts"
   ]
  },
  {
   "cell_type": "code",
   "execution_count": 9,
   "id": "8a120ae0",
   "metadata": {
    "scrolled": true
   },
   "outputs": [
    {
     "data": {
      "text/plain": [
       "0      19.0\n",
       "1      20.0\n",
       "2       1.0\n",
       "3       5.0\n",
       "4      20.0\n",
       "       ... \n",
       "315     9.0\n",
       "316     4.0\n",
       "317     3.0\n",
       "318     1.0\n",
       "319     2.0\n",
       "Name: MarApr_BB, Length: 320, dtype: float64"
      ]
     },
     "execution_count": 9,
     "metadata": {},
     "output_type": "execute_result"
    }
   ],
   "source": [
    "df[\"MarApr_BB\"] = round(df[\"MarApr_BB%\"] * df[\"MarApr_PA\"])\n",
    "df[\"MarApr_BB\"]"
   ]
  },
  {
   "cell_type": "code",
   "execution_count": 10,
   "id": "dc156d34",
   "metadata": {},
   "outputs": [
    {
     "data": {
      "text/plain": [
       "0      15.0\n",
       "1      20.0\n",
       "2       5.0\n",
       "3       5.0\n",
       "4      20.0\n",
       "       ... \n",
       "315    30.0\n",
       "316    19.0\n",
       "317    14.0\n",
       "318     8.0\n",
       "319    14.0\n",
       "Name: MarApr_K, Length: 320, dtype: float64"
      ]
     },
     "execution_count": 10,
     "metadata": {},
     "output_type": "execute_result"
    }
   ],
   "source": [
    "df[\"MarApr_K\"] = round(df[\"MarApr_K%\"] * df[\"MarApr_PA\"])\n",
    "df[\"MarApr_K\"]"
   ]
  },
  {
   "cell_type": "markdown",
   "id": "b602f8d2",
   "metadata": {},
   "source": [
    "## Plots"
   ]
  },
  {
   "cell_type": "code",
   "execution_count": 11,
   "id": "d54d9e6e",
   "metadata": {},
   "outputs": [],
   "source": [
    "import matplotlib.pyplot as plt\n",
    "import seaborn as sns"
   ]
  },
  {
   "cell_type": "code",
   "execution_count": 12,
   "id": "56c80135",
   "metadata": {},
   "outputs": [
    {
     "data": {
      "image/png": "[encoded data removed]",
      "text/plain": [
       "<Figure size 648x648 with 2 Axes>"
      ]
     },
     "metadata": {
      "needs_background": "light"
     },
     "output_type": "display_data"
    }
   ],
   "source": [
    "f, ax = plt.subplots(figsize=(9,9))\n",
    "corr = df.corr()\n",
    "ax = sns.heatmap(\n",
    "    corr, \n",
    "    vmin=-1, vmax=1, center=0,\n",
    "    cmap=sns.diverging_palette(250, 10, n=20),\n",
    "    square=True\n",
    ")\n",
    "\n",
    "ax.set_xticklabels(\n",
    "    ax.get_xticklabels(),\n",
    "    rotation=90,\n",
    "    horizontalalignment='center'\n",
    ");"
   ]
  },
  {
   "cell_type": "markdown",
   "id": "e2c08159",
   "metadata": {},
   "source": [
    "- Base on some high/low correlations, plotting some histograms of these variables will display their distributions \n",
    "<br>\n",
    "&nbsp; - FullSeason_OBP\n",
    "<br>\n",
    "&nbsp; - MarApr_OBP\n",
    "<br>\n",
    "&nbsp; - MarApr_BB\n",
    "<br>\n",
    "&nbsp; - MarApr_O-Swing%\n",
    "<br>\n",
    "&nbsp; - MarApr_SLG\n",
    "<br>\n",
    "&nbsp; - MarApr_AVG\n",
    "<br>\n",
    "&nbsp; - MarApr_H\n",
    "<br>\n",
    "&nbsp; - MarApr_BB%"
   ]
  },
  {
   "cell_type": "code",
   "execution_count": 13,
   "id": "cdc17325",
   "metadata": {
    "scrolled": true
   },
   "outputs": [
    {
     "data": {
      "text/plain": [
       "Text(0, 0.5, 'Player Count')"
      ]
     },
     "execution_count": 13,
     "metadata": {},
     "output_type": "execute_result"
    },
    {
     "data": {
      "image/png": "[encoded data removed]",
      "text/plain": [
       "<Figure size 1440x720 with 8 Axes>"
      ]
     },
     "metadata": {
      "needs_background": "light"
     },
     "output_type": "display_data"
    }
   ],
   "source": [
    "plt.figure(figsize=(20,10))\n",
    "\n",
    "# full season obp\n",
    "ax1 = plt.subplot(241)\n",
    "ax1.hist(df['FullSeason_OBP'])\n",
    "ax1.set_title('FullSeason_OBP')\n",
    "ax1.set_xlabel(\"Full Season OBP\")\n",
    "ax1.set_ylabel(\"Player Count\")\n",
    "\n",
    "# ma obp\n",
    "ax2 = plt.subplot(242)\n",
    "ax2.hist(df['MarApr_OBP'])\n",
    "ax2.set_title('MarApr_OBP')\n",
    "ax2.set_xlabel(\"Mar Apr OBP\")\n",
    "ax2.set_ylabel(\"Player Count\")\n",
    "\n",
    "# ma bb\n",
    "ax3 = plt.subplot(243)\n",
    "ax3.hist(df['MarApr_BB'])\n",
    "ax3.set_title('MarApr_BB')\n",
    "ax3.set_xlabel(\"Mar Apr BB\")\n",
    "ax3.set_ylabel(\"Player Count\")\n",
    "\n",
    "# ma o-swing\n",
    "ax4 = plt.subplot(244)\n",
    "ax4.hist(df['MarApr_O-Swing%'])\n",
    "ax4.set_title('MarApr_O-Swing%')\n",
    "ax4.set_xlabel(\"Mar Apr O-Swing\")\n",
    "ax4.set_ylabel(\"Player Count\")\n",
    "\n",
    "# ma slg\n",
    "ax5 = plt.subplot(245)\n",
    "ax5.hist(df['MarApr_SLG'])\n",
    "ax5.set_title('MarApr_SLG')\n",
    "ax5.set_xlabel(\"Mar Apr SLG\")\n",
    "ax5.set_ylabel(\"Player Count\")\n",
    "\n",
    "# ma avg\n",
    "ax6 = plt.subplot(246)\n",
    "ax6.hist(df['MarApr_AVG'])\n",
    "ax6.set_title('MarApr_AVG')\n",
    "ax6.set_xlabel(\"Mar Apr AVG\")\n",
    "ax6.set_ylabel(\"Player Count\")\n",
    "\n",
    "# ma obp\n",
    "ax7 = plt.subplot(247)\n",
    "ax7.hist(df['MarApr_H'])\n",
    "ax7.set_title('MarApr_H')\n",
    "ax7.set_xlabel(\"Mar Apr H\")\n",
    "ax7.set_ylabel(\"Player Count\")\n",
    "\n",
    "# ma bb%\n",
    "ax8 = plt.subplot(248)\n",
    "ax8.hist(df['MarApr_BB%'])\n",
    "ax8.set_title('MarApr_BB%')\n",
    "ax8.set_xlabel(\"Mar Apr BB%\")\n",
    "ax8.set_ylabel(\"Player Count\")"
   ]
  },
  {
   "cell_type": "markdown",
   "id": "6e9e7477",
   "metadata": {},
   "source": [
    "- In general, most of the slected variables display a normal distribution. MarApr Hits and BB seems to be the only varibales that are certainly not normally distributed."
   ]
  },
  {
   "cell_type": "markdown",
   "id": "72e3e1c9",
   "metadata": {},
   "source": [
    "# Data Splitting"
   ]
  },
  {
   "cell_type": "markdown",
   "id": "178f0f1b",
   "metadata": {},
   "source": [
    "## Normalize the Data"
   ]
  },
  {
   "cell_type": "markdown",
   "id": "0fff34c9",
   "metadata": {},
   "source": [
    "- Separate input and output variables. "
   ]
  },
  {
   "cell_type": "code",
   "execution_count": 14,
   "id": "d3953e7d",
   "metadata": {},
   "outputs": [
    {
     "data": {
      "text/html": [
       "<div>\n",
       "<style scoped>\n",
       "    .dataframe tbody tr th:only-of-type {\n",
       "        vertical-align: middle;\n",
       "    }\n",
       "\n",
       "    .dataframe tbody tr th {\n",
       "        vertical-align: top;\n",
       "    }\n",
       "\n",
       "    .dataframe thead th {\n",
       "        text-align: right;\n",
       "    }\n",
       "</style>\n",
       "<table border=\"1\" class=\"dataframe\">\n",
       "  <thead>\n",
       "    <tr style=\"text-align: right;\">\n",
       "      <th></th>\n",
       "      <th>MarApr_PA</th>\n",
       "      <th>MarApr_AB</th>\n",
       "      <th>MarApr_H</th>\n",
       "      <th>MarApr_HR</th>\n",
       "      <th>MarApr_RBI</th>\n",
       "      <th>MarApr_BB%</th>\n",
       "      <th>MarApr_K%</th>\n",
       "      <th>MarApr_ISO</th>\n",
       "      <th>MarApr_BABIP</th>\n",
       "      <th>MarApr_AVG</th>\n",
       "      <th>...</th>\n",
       "      <th>MarApr_IFFB%</th>\n",
       "      <th>MarApr_HR/FB</th>\n",
       "      <th>MarApr_O-Swing%</th>\n",
       "      <th>MarApr_Z-Swing%</th>\n",
       "      <th>MarApr_Swing%</th>\n",
       "      <th>MarApr_O-Contact%</th>\n",
       "      <th>MarApr_Z-Contact%</th>\n",
       "      <th>MarApr_Contact%</th>\n",
       "      <th>MarApr_BB</th>\n",
       "      <th>MarApr_K</th>\n",
       "    </tr>\n",
       "  </thead>\n",
       "  <tbody>\n",
       "    <tr>\n",
       "      <th>0</th>\n",
       "      <td>132</td>\n",
       "      <td>109</td>\n",
       "      <td>47</td>\n",
       "      <td>14</td>\n",
       "      <td>37</td>\n",
       "      <td>0.144</td>\n",
       "      <td>0.114</td>\n",
       "      <td>0.459</td>\n",
       "      <td>0.398</td>\n",
       "      <td>0.431</td>\n",
       "      <td>...</td>\n",
       "      <td>0.057</td>\n",
       "      <td>0.400</td>\n",
       "      <td>0.226</td>\n",
       "      <td>0.660</td>\n",
       "      <td>0.407</td>\n",
       "      <td>0.811</td>\n",
       "      <td>0.884</td>\n",
       "      <td>0.860</td>\n",
       "      <td>19.0</td>\n",
       "      <td>15.0</td>\n",
       "    </tr>\n",
       "    <tr>\n",
       "      <th>1</th>\n",
       "      <td>124</td>\n",
       "      <td>102</td>\n",
       "      <td>36</td>\n",
       "      <td>14</td>\n",
       "      <td>34</td>\n",
       "      <td>0.161</td>\n",
       "      <td>0.161</td>\n",
       "      <td>0.451</td>\n",
       "      <td>0.319</td>\n",
       "      <td>0.353</td>\n",
       "      <td>...</td>\n",
       "      <td>0.118</td>\n",
       "      <td>0.412</td>\n",
       "      <td>0.279</td>\n",
       "      <td>0.724</td>\n",
       "      <td>0.448</td>\n",
       "      <td>0.566</td>\n",
       "      <td>0.878</td>\n",
       "      <td>0.757</td>\n",
       "      <td>20.0</td>\n",
       "      <td>20.0</td>\n",
       "    </tr>\n",
       "    <tr>\n",
       "      <th>2</th>\n",
       "      <td>35</td>\n",
       "      <td>32</td>\n",
       "      <td>13</td>\n",
       "      <td>2</td>\n",
       "      <td>6</td>\n",
       "      <td>0.029</td>\n",
       "      <td>0.143</td>\n",
       "      <td>0.313</td>\n",
       "      <td>0.440</td>\n",
       "      <td>0.406</td>\n",
       "      <td>...</td>\n",
       "      <td>0.000</td>\n",
       "      <td>0.222</td>\n",
       "      <td>0.402</td>\n",
       "      <td>0.745</td>\n",
       "      <td>0.535</td>\n",
       "      <td>0.543</td>\n",
       "      <td>0.854</td>\n",
       "      <td>0.711</td>\n",
       "      <td>1.0</td>\n",
       "      <td>5.0</td>\n",
       "    </tr>\n",
       "    <tr>\n",
       "      <th>3</th>\n",
       "      <td>49</td>\n",
       "      <td>43</td>\n",
       "      <td>17</td>\n",
       "      <td>3</td>\n",
       "      <td>9</td>\n",
       "      <td>0.102</td>\n",
       "      <td>0.102</td>\n",
       "      <td>0.302</td>\n",
       "      <td>0.400</td>\n",
       "      <td>0.395</td>\n",
       "      <td>...</td>\n",
       "      <td>0.000</td>\n",
       "      <td>0.200</td>\n",
       "      <td>0.273</td>\n",
       "      <td>0.505</td>\n",
       "      <td>0.373</td>\n",
       "      <td>0.939</td>\n",
       "      <td>0.978</td>\n",
       "      <td>0.962</td>\n",
       "      <td>5.0</td>\n",
       "      <td>5.0</td>\n",
       "    </tr>\n",
       "    <tr>\n",
       "      <th>4</th>\n",
       "      <td>92</td>\n",
       "      <td>71</td>\n",
       "      <td>22</td>\n",
       "      <td>8</td>\n",
       "      <td>16</td>\n",
       "      <td>0.217</td>\n",
       "      <td>0.217</td>\n",
       "      <td>0.423</td>\n",
       "      <td>0.318</td>\n",
       "      <td>0.310</td>\n",
       "      <td>...</td>\n",
       "      <td>0.074</td>\n",
       "      <td>0.296</td>\n",
       "      <td>0.237</td>\n",
       "      <td>0.488</td>\n",
       "      <td>0.337</td>\n",
       "      <td>0.661</td>\n",
       "      <td>0.827</td>\n",
       "      <td>0.757</td>\n",
       "      <td>20.0</td>\n",
       "      <td>20.0</td>\n",
       "    </tr>\n",
       "  </tbody>\n",
       "</table>\n",
       "<p>5 rows × 25 columns</p>\n",
       "</div>"
      ],
      "text/plain": [
       "   MarApr_PA  MarApr_AB  MarApr_H  MarApr_HR  MarApr_RBI  MarApr_BB%  \\\n",
       "0        132        109        47         14          37       0.144   \n",
       "1        124        102        36         14          34       0.161   \n",
       "2         35         32        13          2           6       0.029   \n",
       "3         49         43        17          3           9       0.102   \n",
       "4         92         71        22          8          16       0.217   \n",
       "\n",
       "   MarApr_K%  MarApr_ISO  MarApr_BABIP  MarApr_AVG  ...  MarApr_IFFB%  \\\n",
       "0      0.114       0.459         0.398       0.431  ...         0.057   \n",
       "1      0.161       0.451         0.319       0.353  ...         0.118   \n",
       "2      0.143       0.313         0.440       0.406  ...         0.000   \n",
       "3      0.102       0.302         0.400       0.395  ...         0.000   \n",
       "4      0.217       0.423         0.318       0.310  ...         0.074   \n",
       "\n",
       "   MarApr_HR/FB  MarApr_O-Swing%  MarApr_Z-Swing%  MarApr_Swing%  \\\n",
       "0         0.400            0.226            0.660          0.407   \n",
       "1         0.412            0.279            0.724          0.448   \n",
       "2         0.222            0.402            0.745          0.535   \n",
       "3         0.200            0.273            0.505          0.373   \n",
       "4         0.296            0.237            0.488          0.337   \n",
       "\n",
       "   MarApr_O-Contact%  MarApr_Z-Contact%  MarApr_Contact%  MarApr_BB  MarApr_K  \n",
       "0              0.811              0.884            0.860       19.0      15.0  \n",
       "1              0.566              0.878            0.757       20.0      20.0  \n",
       "2              0.543              0.854            0.711        1.0       5.0  \n",
       "3              0.939              0.978            0.962        5.0       5.0  \n",
       "4              0.661              0.827            0.757       20.0      20.0  \n",
       "\n",
       "[5 rows x 25 columns]"
      ]
     },
     "execution_count": 14,
     "metadata": {},
     "output_type": "execute_result"
    }
   ],
   "source": [
    "# separate inputs and outputs\n",
    "output = df.loc[:,'FullSeason_OBP']\n",
    "inputs = df.loc[:,df.columns != 'FullSeason_OBP']\n",
    "inputs = inputs.iloc[:,3:] # remove playerid, name, team\n",
    "inputs.head()"
   ]
  },
  {
   "cell_type": "code",
   "execution_count": 15,
   "id": "ed130c94",
   "metadata": {},
   "outputs": [
    {
     "data": {
      "text/plain": [
       "0    0.406\n",
       "1    0.429\n",
       "2    0.315\n",
       "3    0.353\n",
       "4    0.341\n",
       "Name: FullSeason_OBP, dtype: float64"
      ]
     },
     "execution_count": 15,
     "metadata": {},
     "output_type": "execute_result"
    }
   ],
   "source": [
    "output.head()"
   ]
  },
  {
   "cell_type": "markdown",
   "id": "351149a2",
   "metadata": {},
   "source": [
    "- After splitting the data for modeling, the feature data must be normalized since all variables do not have the same range. I used prepackaged normalization method found [here](https://www.journaldev.com/45109/normalize-data-in-python). The predicted variable should not be normalized to predict scaled OBP variables, insteead of mormalized OBP values."
   ]
  },
  {
   "cell_type": "code",
   "execution_count": 17,
   "id": "1b85b81a",
   "metadata": {},
   "outputs": [
    {
     "data": {
      "text/html": [
       "<div>\n",
       "<style scoped>\n",
       "    .dataframe tbody tr th:only-of-type {\n",
       "        vertical-align: middle;\n",
       "    }\n",
       "\n",
       "    .dataframe tbody tr th {\n",
       "        vertical-align: top;\n",
       "    }\n",
       "\n",
       "    .dataframe thead th {\n",
       "        text-align: right;\n",
       "    }\n",
       "</style>\n",
       "<table border=\"1\" class=\"dataframe\">\n",
       "  <thead>\n",
       "    <tr style=\"text-align: right;\">\n",
       "      <th></th>\n",
       "      <th>MarApr_PA</th>\n",
       "      <th>MarApr_AB</th>\n",
       "      <th>MarApr_H</th>\n",
       "      <th>MarApr_HR</th>\n",
       "      <th>MarApr_RBI</th>\n",
       "      <th>MarApr_BB%</th>\n",
       "      <th>MarApr_K%</th>\n",
       "      <th>MarApr_ISO</th>\n",
       "      <th>MarApr_BABIP</th>\n",
       "      <th>MarApr_AVG</th>\n",
       "      <th>...</th>\n",
       "      <th>MarApr_IFFB%</th>\n",
       "      <th>MarApr_HR/FB</th>\n",
       "      <th>MarApr_O-Swing%</th>\n",
       "      <th>MarApr_Z-Swing%</th>\n",
       "      <th>MarApr_Swing%</th>\n",
       "      <th>MarApr_O-Contact%</th>\n",
       "      <th>MarApr_Z-Contact%</th>\n",
       "      <th>MarApr_Contact%</th>\n",
       "      <th>MarApr_BB</th>\n",
       "      <th>MarApr_K</th>\n",
       "    </tr>\n",
       "  </thead>\n",
       "  <tbody>\n",
       "    <tr>\n",
       "      <th>0</th>\n",
       "      <td>0.719370</td>\n",
       "      <td>0.594026</td>\n",
       "      <td>0.256139</td>\n",
       "      <td>0.076297</td>\n",
       "      <td>0.201642</td>\n",
       "      <td>0.000785</td>\n",
       "      <td>0.000621</td>\n",
       "      <td>0.002501</td>\n",
       "      <td>0.002169</td>\n",
       "      <td>0.002349</td>\n",
       "      <td>...</td>\n",
       "      <td>0.000311</td>\n",
       "      <td>0.002180</td>\n",
       "      <td>0.001232</td>\n",
       "      <td>0.003597</td>\n",
       "      <td>0.002218</td>\n",
       "      <td>0.004420</td>\n",
       "      <td>0.004818</td>\n",
       "      <td>0.004687</td>\n",
       "      <td>0.103546</td>\n",
       "      <td>0.081747</td>\n",
       "    </tr>\n",
       "    <tr>\n",
       "      <th>1</th>\n",
       "      <td>0.725253</td>\n",
       "      <td>0.596579</td>\n",
       "      <td>0.210557</td>\n",
       "      <td>0.081883</td>\n",
       "      <td>0.198860</td>\n",
       "      <td>0.000942</td>\n",
       "      <td>0.000942</td>\n",
       "      <td>0.002638</td>\n",
       "      <td>0.001866</td>\n",
       "      <td>0.002065</td>\n",
       "      <td>...</td>\n",
       "      <td>0.000690</td>\n",
       "      <td>0.002410</td>\n",
       "      <td>0.001632</td>\n",
       "      <td>0.004235</td>\n",
       "      <td>0.002620</td>\n",
       "      <td>0.003310</td>\n",
       "      <td>0.005135</td>\n",
       "      <td>0.004428</td>\n",
       "      <td>0.116976</td>\n",
       "      <td>0.116976</td>\n",
       "    </tr>\n",
       "    <tr>\n",
       "      <th>2</th>\n",
       "      <td>0.701660</td>\n",
       "      <td>0.641517</td>\n",
       "      <td>0.260616</td>\n",
       "      <td>0.040095</td>\n",
       "      <td>0.120285</td>\n",
       "      <td>0.000581</td>\n",
       "      <td>0.002867</td>\n",
       "      <td>0.006275</td>\n",
       "      <td>0.008821</td>\n",
       "      <td>0.008139</td>\n",
       "      <td>...</td>\n",
       "      <td>0.000000</td>\n",
       "      <td>0.004451</td>\n",
       "      <td>0.008059</td>\n",
       "      <td>0.014935</td>\n",
       "      <td>0.010725</td>\n",
       "      <td>0.010886</td>\n",
       "      <td>0.017120</td>\n",
       "      <td>0.014254</td>\n",
       "      <td>0.020047</td>\n",
       "      <td>0.100237</td>\n",
       "    </tr>\n",
       "    <tr>\n",
       "      <th>3</th>\n",
       "      <td>0.715978</td>\n",
       "      <td>0.628307</td>\n",
       "      <td>0.248401</td>\n",
       "      <td>0.043835</td>\n",
       "      <td>0.131506</td>\n",
       "      <td>0.001490</td>\n",
       "      <td>0.001490</td>\n",
       "      <td>0.004413</td>\n",
       "      <td>0.005845</td>\n",
       "      <td>0.005772</td>\n",
       "      <td>...</td>\n",
       "      <td>0.000000</td>\n",
       "      <td>0.002922</td>\n",
       "      <td>0.003989</td>\n",
       "      <td>0.007379</td>\n",
       "      <td>0.005450</td>\n",
       "      <td>0.013720</td>\n",
       "      <td>0.014290</td>\n",
       "      <td>0.014057</td>\n",
       "      <td>0.073059</td>\n",
       "      <td>0.073059</td>\n",
       "    </tr>\n",
       "    <tr>\n",
       "      <th>4</th>\n",
       "      <td>0.748368</td>\n",
       "      <td>0.577545</td>\n",
       "      <td>0.178958</td>\n",
       "      <td>0.065076</td>\n",
       "      <td>0.130151</td>\n",
       "      <td>0.001765</td>\n",
       "      <td>0.001765</td>\n",
       "      <td>0.003441</td>\n",
       "      <td>0.002587</td>\n",
       "      <td>0.002522</td>\n",
       "      <td>...</td>\n",
       "      <td>0.000602</td>\n",
       "      <td>0.002408</td>\n",
       "      <td>0.001928</td>\n",
       "      <td>0.003970</td>\n",
       "      <td>0.002741</td>\n",
       "      <td>0.005377</td>\n",
       "      <td>0.006727</td>\n",
       "      <td>0.006158</td>\n",
       "      <td>0.162689</td>\n",
       "      <td>0.162689</td>\n",
       "    </tr>\n",
       "  </tbody>\n",
       "</table>\n",
       "<p>5 rows × 25 columns</p>\n",
       "</div>"
      ],
      "text/plain": [
       "   MarApr_PA  MarApr_AB  MarApr_H  MarApr_HR  MarApr_RBI  MarApr_BB%  \\\n",
       "0   0.719370   0.594026  0.256139   0.076297    0.201642    0.000785   \n",
       "1   0.725253   0.596579  0.210557   0.081883    0.198860    0.000942   \n",
       "2   0.701660   0.641517  0.260616   0.040095    0.120285    0.000581   \n",
       "3   0.715978   0.628307  0.248401   0.043835    0.131506    0.001490   \n",
       "4   0.748368   0.577545  0.178958   0.065076    0.130151    0.001765   \n",
       "\n",
       "   MarApr_K%  MarApr_ISO  MarApr_BABIP  MarApr_AVG  ...  MarApr_IFFB%  \\\n",
       "0   0.000621    0.002501      0.002169    0.002349  ...      0.000311   \n",
       "1   0.000942    0.002638      0.001866    0.002065  ...      0.000690   \n",
       "2   0.002867    0.006275      0.008821    0.008139  ...      0.000000   \n",
       "3   0.001490    0.004413      0.005845    0.005772  ...      0.000000   \n",
       "4   0.001765    0.003441      0.002587    0.002522  ...      0.000602   \n",
       "\n",
       "   MarApr_HR/FB  MarApr_O-Swing%  MarApr_Z-Swing%  MarApr_Swing%  \\\n",
       "0      0.002180         0.001232         0.003597       0.002218   \n",
       "1      0.002410         0.001632         0.004235       0.002620   \n",
       "2      0.004451         0.008059         0.014935       0.010725   \n",
       "3      0.002922         0.003989         0.007379       0.005450   \n",
       "4      0.002408         0.001928         0.003970       0.002741   \n",
       "\n",
       "   MarApr_O-Contact%  MarApr_Z-Contact%  MarApr_Contact%  MarApr_BB  MarApr_K  \n",
       "0           0.004420           0.004818         0.004687   0.103546  0.081747  \n",
       "1           0.003310           0.005135         0.004428   0.116976  0.116976  \n",
       "2           0.010886           0.017120         0.014254   0.020047  0.100237  \n",
       "3           0.013720           0.014290         0.014057   0.073059  0.073059  \n",
       "4           0.005377           0.006727         0.006158   0.162689  0.162689  \n",
       "\n",
       "[5 rows x 25 columns]"
      ]
     },
     "execution_count": 17,
     "metadata": {},
     "output_type": "execute_result"
    }
   ],
   "source": [
    "from sklearn import preprocessing\n",
    "inputs_norm = pd.DataFrame(preprocessing.normalize(inputs))\n",
    "inputs_norm.columns = inputs.columns\n",
    "inputs_norm.head()"
   ]
  },
  {
   "cell_type": "markdown",
   "id": "0e74c7a2",
   "metadata": {},
   "source": [
    "- Split data into train, validation, and testing data"
   ]
  },
  {
   "cell_type": "code",
   "execution_count": 18,
   "id": "df35857c",
   "metadata": {},
   "outputs": [
    {
     "name": "stdout",
     "output_type": "stream",
     "text": [
      "x_train shape: (192, 25)\n",
      "y_train shape: (192,)\n",
      "x_val shape: (64, 25)\n",
      "y val shape: (64,)\n",
      "x_test shape: (64, 25)\n",
      "y_test shape: (64,)\n"
     ]
    }
   ],
   "source": [
    "from sklearn.model_selection import train_test_split\n",
    "\n",
    "# split train and test\n",
    "x_train, x_test, y_train, y_test = train_test_split(inputs, output, test_size=0.2, shuffle = True, random_state = 3)\n",
    "# split train and validation\n",
    "x_train, x_val, y_train, y_val = train_test_split(x_train, y_train, test_size=0.25, shuffle = True, random_state= 3) \n",
    "\n",
    "# check shapes\n",
    "print(\"x_train shape: {}\".format(x_train.shape))\n",
    "print(\"y_train shape: {}\".format(y_train.shape))\n",
    "print(\"x_val shape: {}\".format(x_val.shape))\n",
    "print(\"y val shape: {}\".format(y_val.shape))\n",
    "print(\"x_test shape: {}\".format(x_test.shape))\n",
    "print(\"y_test shape: {}\".format(y_test.shape))"
   ]
  },
  {
   "cell_type": "markdown",
   "id": "9c739c71",
   "metadata": {},
   "source": [
    "# Modeling"
   ]
  },
  {
   "cell_type": "markdown",
   "id": "a23612e3",
   "metadata": {},
   "source": [
    "## Gradient Boosting Regression (XGBoost)"
   ]
  },
  {
   "cell_type": "markdown",
   "id": "298703a9",
   "metadata": {},
   "source": [
    "- The first model I decided to use was XGBoost Regression. XGBoost is boosting algorithm that learns off of itself, generating an ensemble of tree models to optimize the loss function. \n",
    "- The [scikit-learn](https://scikit-learn.org/stable/auto_examples/ensemble/plot_gradient_boosting_regression.html) Gradient Boosting regression documentation was used to develop the model."
   ]
  },
  {
   "cell_type": "markdown",
   "id": "152e7fee",
   "metadata": {},
   "source": [
    "### Train Model"
   ]
  },
  {
   "cell_type": "code",
   "execution_count": 19,
   "id": "fb290d08",
   "metadata": {},
   "outputs": [
    {
     "name": "stdout",
     "output_type": "stream",
     "text": [
      "The mean squared error (MSE) on validation set: 0.00079\n"
     ]
    },
    {
     "data": {
      "text/plain": [
       "<matplotlib.legend.Legend at 0x7fb036311fd0>"
      ]
     },
     "execution_count": 19,
     "metadata": {},
     "output_type": "execute_result"
    },
    {
     "data": {
      "image/png": "[encoded data removed]",
      "text/plain": [
       "<Figure size 432x288 with 1 Axes>"
      ]
     },
     "metadata": {
      "needs_background": "light"
     },
     "output_type": "display_data"
    }
   ],
   "source": [
    "from sklearn import ensemble\n",
    "from sklearn.inspection import permutation_importance\n",
    "from sklearn.metrics import mean_squared_error\n",
    "\n",
    "# establish parameters\n",
    "params = {\n",
    "    \"n_estimators\": 500,\n",
    "    \"max_depth\": 3,\n",
    "    \"min_samples_split\": 2,\n",
    "    \"learning_rate\": 0.01,\n",
    "    \n",
    "}\n",
    "\n",
    "# fit model\n",
    "reg = ensemble.GradientBoostingRegressor(**params)\n",
    "reg.fit(x_train, y_train)\n",
    "\n",
    "# evaluate model\n",
    "mse = mean_squared_error(y_val, reg.predict(x_val))\n",
    "print(\"The mean squared error (MSE) on validation set: {:.5f}\".format(mse))\n",
    "import numpy as np\n",
    "\n",
    "plt.plot(np.asarray(y_val), label=\"Valdiation OBP\")\n",
    "plt.plot(reg.predict(x_val), c=\"red\", label=\"Predicted OBP\")\n",
    "plt.legend()"
   ]
  },
  {
   "cell_type": "markdown",
   "id": "a9176817",
   "metadata": {},
   "source": [
    "- The mean sqaured error (MSE) on the validation set was 8e-4.\n",
    "- The model seemed to struggle with outliers (OBP<.275 or OBP>.375)"
   ]
  },
  {
   "cell_type": "code",
   "execution_count": 20,
   "id": "13fd5e32",
   "metadata": {},
   "outputs": [
    {
     "data": {
      "image/png": "[encoded data removed]",
      "text/plain": [
       "<Figure size 432x432 with 1 Axes>"
      ]
     },
     "metadata": {
      "needs_background": "light"
     },
     "output_type": "display_data"
    }
   ],
   "source": [
    "val_score = np.zeros((params[\"n_estimators\"],), dtype=np.float64)\n",
    "for i, y_pred in enumerate(reg.staged_predict(x_val)):\n",
    "    val_score[i] = reg.loss_(y_val, y_pred)\n",
    "\n",
    "fig = plt.figure(figsize=(6, 6))\n",
    "plt.subplot(1, 1, 1)\n",
    "plt.title(\"Deviance\")\n",
    "plt.plot(\n",
    "    np.arange(params[\"n_estimators\"]) + 1,\n",
    "    reg.train_score_,\n",
    "    \"b-\",\n",
    "    label=\"Training Set Deviance\",\n",
    ")\n",
    "plt.plot(\n",
    "    np.arange(params[\"n_estimators\"]) + 1, val_score, \"g-\", label=\"Validation Set Deviance\"\n",
    ")\n",
    "plt.legend(loc=\"upper right\")\n",
    "plt.xlabel(\"Boosting Iterations\")\n",
    "plt.ylabel(\"Deviance\")\n",
    "fig.tight_layout()\n",
    "plt.show()"
   ]
  },
  {
   "cell_type": "markdown",
   "id": "722beca6",
   "metadata": {},
   "source": [
    "- A good sign of this trained model is the deviance of the train and validation sets. The validation deviance mimics the decrease of the train set and then begins to tail off and flatten out which is a good indicator of the number of iterations needed. "
   ]
  },
  {
   "cell_type": "markdown",
   "id": "27893a28",
   "metadata": {},
   "source": [
    "#### Parameter Tuning"
   ]
  },
  {
   "cell_type": "markdown",
   "id": "24247650",
   "metadata": {},
   "source": [
    "- The parameter that had the most influence on the model was the **learning rate**. Originally, the learning rate was set to 0.001 which resulted in the model pretty much predicting a straight line average of the validation set. The model significantly improved once it was increased by an order of magnitude to 0.01.\n",
    "- The model's validation performance begins to flat line between 450-500 boosting iterations. Because of this, the **number of estimators** parameter was set to 500.\n",
    "- With a limited training data set, both the number of **samples to split a node** and the **depth of nodes within the tree model** had to be set to a small value to implify the model before MSE increased significantly. Both parameters were set to their default, minimum values."
   ]
  },
  {
   "cell_type": "code",
   "execution_count": 21,
   "id": "0adb02b1",
   "metadata": {
    "scrolled": true
   },
   "outputs": [
    {
     "data": {
      "image/png": "[encoded data removed]",
      "text/plain": [
       "<Figure size 864x432 with 2 Axes>"
      ]
     },
     "metadata": {
      "needs_background": "light"
     },
     "output_type": "display_data"
    }
   ],
   "source": [
    "feature_importance = reg.feature_importances_\n",
    "sorted_idx = np.argsort(feature_importance)\n",
    "pos = np.arange(sorted_idx.shape[0]) + 0.5\n",
    "fig = plt.figure(figsize=(12, 6))\n",
    "plt.subplot(1, 2, 1)\n",
    "plt.barh(pos, feature_importance[sorted_idx], align=\"center\")\n",
    "plt.yticks(pos, np.array(inputs.columns)[sorted_idx])\n",
    "plt.title(\"Feature Importance (MDI)\")\n",
    "\n",
    "result = permutation_importance(\n",
    "    reg, x_val, y_val, n_repeats=10, random_state=42, n_jobs=2\n",
    ")\n",
    "sorted_idx = result.importances_mean.argsort()\n",
    "plt.subplot(1, 2, 2)\n",
    "plt.boxplot(\n",
    "    result.importances[sorted_idx].T,\n",
    "    vert=False,\n",
    "    labels=np.array(inputs.columns)[sorted_idx],\n",
    ")\n",
    "plt.title(\"Permutation Importance (test set)\")\n",
    "fig.tight_layout()\n",
    "plt.show()"
   ]
  },
  {
   "cell_type": "markdown",
   "id": "6aef955c",
   "metadata": {},
   "source": [
    "#### Feature Importance"
   ]
  },
  {
   "cell_type": "markdown",
   "id": "756087f8",
   "metadata": {},
   "source": [
    "- To no surprise, **March and April OBP** is the most important feature in the model. In fact it is over 4 times as important as the next important feature which invloves **March and April BB**.\n",
    "- The other three variables that complete the top 5 most important variables are **Swing %, out-of-zone contact %,** and **strikeout %**.\n",
    "- In addition, based on the permutation importance boxplot, **K%** could also be considered and important feature along with the variables mentioned above."
   ]
  },
  {
   "cell_type": "markdown",
   "id": "3b1f2e05",
   "metadata": {},
   "source": [
    "### Test Model"
   ]
  },
  {
   "cell_type": "code",
   "execution_count": 22,
   "id": "e0bd4f0d",
   "metadata": {},
   "outputs": [
    {
     "name": "stdout",
     "output_type": "stream",
     "text": [
      "The mean squared error (MSE) on test set: 0.00114\n"
     ]
    },
    {
     "data": {
      "text/plain": [
       "<matplotlib.legend.Legend at 0x7fb036345910>"
      ]
     },
     "execution_count": 22,
     "metadata": {},
     "output_type": "execute_result"
    },
    {
     "data": {
      "image/png": "[encoded data removed]",
      "text/plain": [
       "<Figure size 432x288 with 1 Axes>"
      ]
     },
     "metadata": {
      "needs_background": "light"
     },
     "output_type": "display_data"
    }
   ],
   "source": [
    "# evaluate model\n",
    "mse = mean_squared_error(y_test, reg.predict(x_test))\n",
    "print(\"The mean squared error (MSE) on test set: {:.5f}\".format(mse))\n",
    "import numpy as np\n",
    "\n",
    "plt.plot(np.asarray(y_test), label=\"Test OBP\")\n",
    "plt.plot(reg.predict(x_test), c=\"red\", label=\"Predicted OBP\")\n",
    "plt.xlabel(\"Test Samples\")\n",
    "plt.ylabel(\"OBP\")\n",
    "plt.title(\"Predicted vs. Test OBP\")\n",
    "plt.legend()"
   ]
  },
  {
   "cell_type": "markdown",
   "id": "43913710",
   "metadata": {},
   "source": [
    "- The MSE increased a good bit from 8e-4 to 1.14e-3, which is a little bigger jump than expected for validation to test data.\n",
    "- The model again seemed to struggle with outlier data (OBP<.275 or OBP>.375)"
   ]
  },
  {
   "cell_type": "code",
   "execution_count": 23,
   "id": "c0698e9c",
   "metadata": {
    "scrolled": true
   },
   "outputs": [
    {
     "data": {
      "image/png": "[encoded data removed]",
      "text/plain": [
       "<Figure size 432x432 with 1 Axes>"
      ]
     },
     "metadata": {
      "needs_background": "light"
     },
     "output_type": "display_data"
    }
   ],
   "source": [
    "test_score = np.zeros((params[\"n_estimators\"],), dtype=np.float64)\n",
    "for i, y_pred in enumerate(reg.staged_predict(x_test)):\n",
    "    test_score[i] = reg.loss_(y_test, y_pred)\n",
    "\n",
    "fig = plt.figure(figsize=(6, 6))\n",
    "plt.subplot(1, 1, 1)\n",
    "plt.title(\"Deviance\")\n",
    "plt.plot(\n",
    "    np.arange(params[\"n_estimators\"]) + 1,\n",
    "    reg.train_score_,\n",
    "    \"b-\",\n",
    "    label=\"Training Set Deviance\",\n",
    ")\n",
    "plt.plot(\n",
    "    np.arange(params[\"n_estimators\"]) + 1, val_score, \"g-\", label=\"Validation Set Deviance\"\n",
    ")\n",
    "plt.plot(\n",
    "    np.arange(params[\"n_estimators\"]) + 1, test_score, \"r-\", label=\"Test Set Deviance\"\n",
    ")\n",
    "plt.legend(loc=\"upper right\")\n",
    "plt.xlabel(\"Boosting Iterations\")\n",
    "plt.ylabel(\"Deviance\")\n",
    "fig.tight_layout()\n",
    "plt.show()"
   ]
  },
  {
   "cell_type": "markdown",
   "id": "23f6b290",
   "metadata": {},
   "source": [
    "- This graph looks normal as the deviance follows the expected order of train, validation, and test from best to worst in terms of deviance. "
   ]
  },
  {
   "cell_type": "code",
   "execution_count": 24,
   "id": "db64f4f5",
   "metadata": {
    "scrolled": true
   },
   "outputs": [
    {
     "data": {
      "image/png": "[encoded data removed]",
      "text/plain": [
       "<Figure size 432x432 with 1 Axes>"
      ]
     },
     "metadata": {
      "needs_background": "light"
     },
     "output_type": "display_data"
    }
   ],
   "source": [
    "fig = plt.figure(figsize=(6, 6))\n",
    "\n",
    "result = permutation_importance(\n",
    "    reg, x_test, y_test, n_repeats=10, random_state=42, n_jobs=2\n",
    ")\n",
    "sorted_idx = result.importances_mean.argsort()\n",
    "plt.subplot(1, 1, 1)\n",
    "plt.boxplot(\n",
    "    result.importances[sorted_idx].T,\n",
    "    vert=False,\n",
    "    labels=np.array(inputs.columns)[sorted_idx],\n",
    ")\n",
    "plt.title(\"Permutation Importance (test set)\")\n",
    "fig.tight_layout()\n",
    "plt.show()"
   ]
  },
  {
   "cell_type": "markdown",
   "id": "13e2d6fe",
   "metadata": {},
   "source": [
    "- The most remained mostly the same compared to the validation set, but **SLG** and **RBI** creeped into the mix."
   ]
  },
  {
   "cell_type": "markdown",
   "id": "db816722",
   "metadata": {},
   "source": [
    "# Evaluation and Conclusion"
   ]
  },
  {
   "cell_type": "code",
   "execution_count": 25,
   "id": "b56d8cf4",
   "metadata": {},
   "outputs": [
    {
     "name": "stdout",
     "output_type": "stream",
     "text": [
      "The mean squared error (MSE) on test set: 0.00114\n",
      "The mean absolute error (MAE) on test set: 0.027\n",
      "The average on test set: -0.002\n"
     ]
    }
   ],
   "source": [
    "from sklearn.metrics import mean_absolute_error\n",
    "# evaluate model\n",
    "mse = mean_squared_error(y_test, reg.predict(x_test))\n",
    "mae = mean_absolute_error(y_test, reg.predict(x_test))\n",
    "me = np.mean(reg.predict(x_test) - y_test)\n",
    "print(\"The mean squared error (MSE) on test set: {:.5f}\".format(mse))\n",
    "print(\"The mean absolute error (MAE) on test set: {:.3f}\".format(mae))\n",
    "print(\"The average on test set: {:.3f}\".format(me))"
   ]
  },
  {
   "cell_type": "code",
   "execution_count": 26,
   "id": "a3240bc0",
   "metadata": {},
   "outputs": [
    {
     "data": {
      "text/plain": [
       "0.372"
      ]
     },
     "execution_count": 26,
     "metadata": {},
     "output_type": "execute_result"
    }
   ],
   "source": [
    "harper_fs_obp = float(df[\"FullSeason_OBP\"][df[\"Name\"] == \"Bryce Harper\"])\n",
    "harper_fs_obp"
   ]
  },
  {
   "cell_type": "code",
   "execution_count": 27,
   "id": "a2ef0532",
   "metadata": {},
   "outputs": [
    {
     "name": "stdout",
     "output_type": "stream",
     "text": [
      "Carlos Santana\n"
     ]
    }
   ],
   "source": [
    "for i in range(len(df)):\n",
    "    player_fs_obp = df[\"FullSeason_OBP\"][i]\n",
    "    player_diff = player_fs_obp - harper_fs_obp\n",
    "    if (player_diff < .029) & (player_diff > .025):\n",
    "        print(df[\"Name\"][i])"
   ]
  },
  {
   "cell_type": "code",
   "execution_count": 28,
   "id": "ed8f2076",
   "metadata": {},
   "outputs": [
    {
     "data": {
      "text/plain": [
       "0.397"
      ]
     },
     "execution_count": 28,
     "metadata": {},
     "output_type": "execute_result"
    }
   ],
   "source": [
    "float(df[\"FullSeason_OBP\"][df[\"Name\"] == \"Carlos Santana\"]) "
   ]
  },
  {
   "cell_type": "code",
   "execution_count": 29,
   "id": "80be0c75",
   "metadata": {},
   "outputs": [
    {
     "data": {
      "text/plain": [
       "0.025000000000000022"
      ]
     },
     "execution_count": 29,
     "metadata": {},
     "output_type": "execute_result"
    }
   ],
   "source": [
    "float(df[\"FullSeason_OBP\"][df[\"Name\"] == \"Carlos Santana\"]) - harper_fs_obp"
   ]
  },
  {
   "cell_type": "code",
   "execution_count": 30,
   "id": "a1c4bc53",
   "metadata": {},
   "outputs": [
    {
     "name": "stdout",
     "output_type": "stream",
     "text": [
      "Alex Gordon\n",
      "Eric Thames\n",
      "Tommy La Stella\n",
      "Edwin Encarnacion\n",
      "Dexter Fowler\n",
      "Paul Goldschmidt\n",
      "Robinson Chirinos\n",
      "Neil Walker\n",
      "Miguel Cabrera\n"
     ]
    }
   ],
   "source": [
    "for i in range(len(df)):\n",
    "    player_fs_obp = df[\"FullSeason_OBP\"][i]\n",
    "    player_diff = harper_fs_obp - player_fs_obp \n",
    "    if (player_diff < .029) & (player_diff > .025):\n",
    "        print(df[\"Name\"][i])"
   ]
  },
  {
   "cell_type": "code",
   "execution_count": 31,
   "id": "96ca5db6",
   "metadata": {},
   "outputs": [
    {
     "data": {
      "text/plain": [
       "0.346"
      ]
     },
     "execution_count": 31,
     "metadata": {},
     "output_type": "execute_result"
    }
   ],
   "source": [
    "float(df[\"FullSeason_OBP\"][df[\"Name\"] == \"Paul Goldschmidt\"])"
   ]
  },
  {
   "cell_type": "code",
   "execution_count": 32,
   "id": "f2697385",
   "metadata": {},
   "outputs": [
    {
     "data": {
      "text/plain": [
       "-0.026000000000000023"
      ]
     },
     "execution_count": 32,
     "metadata": {},
     "output_type": "execute_result"
    }
   ],
   "source": [
    "float(df[\"FullSeason_OBP\"][df[\"Name\"] == \"Paul Goldschmidt\"]) - harper_fs_obp"
   ]
  },
  {
   "cell_type": "code",
   "execution_count": 33,
   "id": "a855faa5",
   "metadata": {},
   "outputs": [
    {
     "data": {
      "text/plain": [
       "count    320.000\n",
       "mean       0.326\n",
       "std        0.038\n",
       "min        0.209\n",
       "25%        0.304\n",
       "50%        0.325\n",
       "75%        0.350\n",
       "max        0.438\n",
       "Name: FullSeason_OBP, dtype: float64"
      ]
     },
     "execution_count": 33,
     "metadata": {},
     "output_type": "execute_result"
    }
   ],
   "source": [
    "round(df[\"FullSeason_OBP\"].describe(),3)"
   ]
  },
  {
   "cell_type": "markdown",
   "id": "d8102275",
   "metadata": {},
   "source": [
    "- A weakness of the model was predicting outliers where OBP < .275 or OBP > .375. This could be result of a small dataset, but I would argue that this is just shortcoming of this specific model. \n",
    "- The model seems to overpredict and underpredict at the same rate with the average prediction barely being below the true value by .002.\n",
    "- The mean absolute error (MAE) is .027 which disregards over and under predictions. This difference in OBP can be represented by predicting the following player's OBP instead of predicting Bryce Harper's 2019 Full Season OBP of .372:\n",
    "<br>\n",
    "&nbsp; - Carlos Santana (.397, difference = .250)\n",
    "<br>\n",
    "&nbsp; - Paul Goldschmidt (.346, difference = -.260)"
   ]
  },
  {
   "cell_type": "markdown",
   "id": "d2c12dd4",
   "metadata": {},
   "source": [
    "# Prediction of each player's OBP at the end of the 2019 season\n",
    "Although the modleing analysis above utilizes data splitting for the train, validation, and test sets, the questionnaire asks to predict **each** player's OBP so the code below produces a csv with the player ID, player name, team, full season OBP, and predicted OBP. These predictions are contaminated because the model that is used to predict them also used 80% of the same data to train."
   ]
  },
  {
   "cell_type": "code",
   "execution_count": 49,
   "id": "9310be5f",
   "metadata": {},
   "outputs": [
    {
     "data": {
      "text/html": [
       "<div>\n",
       "<style scoped>\n",
       "    .dataframe tbody tr th:only-of-type {\n",
       "        vertical-align: middle;\n",
       "    }\n",
       "\n",
       "    .dataframe tbody tr th {\n",
       "        vertical-align: top;\n",
       "    }\n",
       "\n",
       "    .dataframe thead th {\n",
       "        text-align: right;\n",
       "    }\n",
       "</style>\n",
       "<table border=\"1\" class=\"dataframe\">\n",
       "  <thead>\n",
       "    <tr style=\"text-align: right;\">\n",
       "      <th></th>\n",
       "      <th>player_id</th>\n",
       "      <th>player_name</th>\n",
       "      <th>team</th>\n",
       "      <th>FullSeason_OBP</th>\n",
       "      <th>Predicted_OBP</th>\n",
       "      <th>OBP_difference</th>\n",
       "    </tr>\n",
       "  </thead>\n",
       "  <tbody>\n",
       "    <tr>\n",
       "      <th>0</th>\n",
       "      <td>15998</td>\n",
       "      <td>Cody Bellinger</td>\n",
       "      <td>LAD</td>\n",
       "      <td>0.406</td>\n",
       "      <td>0.396</td>\n",
       "      <td>0.010</td>\n",
       "    </tr>\n",
       "    <tr>\n",
       "      <th>1</th>\n",
       "      <td>11477</td>\n",
       "      <td>Christian Yelich</td>\n",
       "      <td>MIL</td>\n",
       "      <td>0.429</td>\n",
       "      <td>0.382</td>\n",
       "      <td>0.047</td>\n",
       "    </tr>\n",
       "    <tr>\n",
       "      <th>2</th>\n",
       "      <td>17975</td>\n",
       "      <td>Scott Kingery</td>\n",
       "      <td>PHI</td>\n",
       "      <td>0.315</td>\n",
       "      <td>0.320</td>\n",
       "      <td>-0.005</td>\n",
       "    </tr>\n",
       "    <tr>\n",
       "      <th>3</th>\n",
       "      <td>7927</td>\n",
       "      <td>Eric Sogard</td>\n",
       "      <td>TOR</td>\n",
       "      <td>0.353</td>\n",
       "      <td>0.352</td>\n",
       "      <td>0.001</td>\n",
       "    </tr>\n",
       "    <tr>\n",
       "      <th>4</th>\n",
       "      <td>14130</td>\n",
       "      <td>Daniel Vogelbach</td>\n",
       "      <td>SEA</td>\n",
       "      <td>0.341</td>\n",
       "      <td>0.356</td>\n",
       "      <td>-0.015</td>\n",
       "    </tr>\n",
       "    <tr>\n",
       "      <th>...</th>\n",
       "      <td>...</td>\n",
       "      <td>...</td>\n",
       "      <td>...</td>\n",
       "      <td>...</td>\n",
       "      <td>...</td>\n",
       "      <td>...</td>\n",
       "    </tr>\n",
       "    <tr>\n",
       "      <th>315</th>\n",
       "      <td>12984</td>\n",
       "      <td>Jackie Bradley Jr.</td>\n",
       "      <td>BOS</td>\n",
       "      <td>0.317</td>\n",
       "      <td>0.307</td>\n",
       "      <td>0.010</td>\n",
       "    </tr>\n",
       "    <tr>\n",
       "      <th>316</th>\n",
       "      <td>9253</td>\n",
       "      <td>Keon Broxton</td>\n",
       "      <td>NYM</td>\n",
       "      <td>0.242</td>\n",
       "      <td>0.298</td>\n",
       "      <td>-0.056</td>\n",
       "    </tr>\n",
       "    <tr>\n",
       "      <th>317</th>\n",
       "      <td>16357</td>\n",
       "      <td>Pablo Reyes</td>\n",
       "      <td>PIT</td>\n",
       "      <td>0.274</td>\n",
       "      <td>0.268</td>\n",
       "      <td>0.006</td>\n",
       "    </tr>\n",
       "    <tr>\n",
       "      <th>318</th>\n",
       "      <td>6848</td>\n",
       "      <td>Eduardo Nunez</td>\n",
       "      <td>BOS</td>\n",
       "      <td>0.243</td>\n",
       "      <td>0.312</td>\n",
       "      <td>-0.069</td>\n",
       "    </tr>\n",
       "    <tr>\n",
       "      <th>319</th>\n",
       "      <td>16623</td>\n",
       "      <td>Greg Allen</td>\n",
       "      <td>CLE</td>\n",
       "      <td>0.290</td>\n",
       "      <td>0.294</td>\n",
       "      <td>-0.004</td>\n",
       "    </tr>\n",
       "  </tbody>\n",
       "</table>\n",
       "<p>320 rows × 6 columns</p>\n",
       "</div>"
      ],
      "text/plain": [
       "    player_id         player_name team  FullSeason_OBP  Predicted_OBP  \\\n",
       "0       15998      Cody Bellinger  LAD           0.406          0.396   \n",
       "1       11477    Christian Yelich  MIL           0.429          0.382   \n",
       "2       17975       Scott Kingery  PHI           0.315          0.320   \n",
       "3        7927         Eric Sogard  TOR           0.353          0.352   \n",
       "4       14130    Daniel Vogelbach  SEA           0.341          0.356   \n",
       "..        ...                 ...  ...             ...            ...   \n",
       "315     12984  Jackie Bradley Jr.  BOS           0.317          0.307   \n",
       "316      9253        Keon Broxton  NYM           0.242          0.298   \n",
       "317     16357         Pablo Reyes  PIT           0.274          0.268   \n",
       "318      6848       Eduardo Nunez  BOS           0.243          0.312   \n",
       "319     16623          Greg Allen  CLE           0.290          0.294   \n",
       "\n",
       "     OBP_difference  \n",
       "0             0.010  \n",
       "1             0.047  \n",
       "2            -0.005  \n",
       "3             0.001  \n",
       "4            -0.015  \n",
       "..              ...  \n",
       "315           0.010  \n",
       "316          -0.056  \n",
       "317           0.006  \n",
       "318          -0.069  \n",
       "319          -0.004  \n",
       "\n",
       "[320 rows x 6 columns]"
      ]
     },
     "execution_count": 49,
     "metadata": {},
     "output_type": "execute_result"
    }
   ],
   "source": [
    "obp_preds = reg.predict(inputs)\n",
    "obp_preds = [np.round(x,3) for x in obp_preds]\n",
    "actual_obp = np.array(output)\n",
    "obp_diff = round(output - obp_preds,3)\n",
    "player_name = df[\"Name\"]\n",
    "player_id = df[\"playerid\"]\n",
    "team = df[\"Team\"]\n",
    "\n",
    "obp_preds = pd.Series(obp_preds)\n",
    "actual_obp = pd.Series(actual_obp)\n",
    "obp_diff = pd.Series(obp_diff)\n",
    "player_name = pd.Series(player_name)\n",
    "player_id = pd.Series(player_id)\n",
    "team = pd.Series(team)\n",
    "\n",
    "obp_predictions_2019 = pd.concat([player_id, player_name, team, actual_obp,obp_preds, obp_diff], axis=1)\n",
    "obp_predictions_2019.columns = ['player_id','player_name','team','FullSeason_OBP', 'Predicted_OBP', \"OBP_difference\"]\n",
    "obp_predictions_2019"
   ]
  },
  {
   "cell_type": "code",
   "execution_count": 53,
   "id": "0f40efde",
   "metadata": {},
   "outputs": [
    {
     "data": {
      "text/html": [
       "<div>\n",
       "<style scoped>\n",
       "    .dataframe tbody tr th:only-of-type {\n",
       "        vertical-align: middle;\n",
       "    }\n",
       "\n",
       "    .dataframe tbody tr th {\n",
       "        vertical-align: top;\n",
       "    }\n",
       "\n",
       "    .dataframe thead th {\n",
       "        text-align: right;\n",
       "    }\n",
       "</style>\n",
       "<table border=\"1\" class=\"dataframe\">\n",
       "  <thead>\n",
       "    <tr style=\"text-align: right;\">\n",
       "      <th></th>\n",
       "      <th>player_id</th>\n",
       "      <th>player_name</th>\n",
       "      <th>team</th>\n",
       "      <th>FullSeason_OBP</th>\n",
       "      <th>Predicted_OBP</th>\n",
       "      <th>OBP_difference</th>\n",
       "    </tr>\n",
       "  </thead>\n",
       "  <tbody>\n",
       "    <tr>\n",
       "      <th>2</th>\n",
       "      <td>17975</td>\n",
       "      <td>Scott Kingery</td>\n",
       "      <td>PHI</td>\n",
       "      <td>0.315</td>\n",
       "      <td>0.320</td>\n",
       "      <td>-0.005</td>\n",
       "    </tr>\n",
       "    <tr>\n",
       "      <th>20</th>\n",
       "      <td>16472</td>\n",
       "      <td>Rhys Hoskins</td>\n",
       "      <td>PHI</td>\n",
       "      <td>0.364</td>\n",
       "      <td>0.374</td>\n",
       "      <td>-0.010</td>\n",
       "    </tr>\n",
       "    <tr>\n",
       "      <th>75</th>\n",
       "      <td>5933</td>\n",
       "      <td>Jean Segura</td>\n",
       "      <td>PHI</td>\n",
       "      <td>0.323</td>\n",
       "      <td>0.324</td>\n",
       "      <td>-0.001</td>\n",
       "    </tr>\n",
       "    <tr>\n",
       "      <th>84</th>\n",
       "      <td>11579</td>\n",
       "      <td>Bryce Harper</td>\n",
       "      <td>PHI</td>\n",
       "      <td>0.372</td>\n",
       "      <td>0.373</td>\n",
       "      <td>-0.001</td>\n",
       "    </tr>\n",
       "    <tr>\n",
       "      <th>102</th>\n",
       "      <td>9847</td>\n",
       "      <td>Andrew McCutchen</td>\n",
       "      <td>PHI</td>\n",
       "      <td>0.378</td>\n",
       "      <td>0.374</td>\n",
       "      <td>0.004</td>\n",
       "    </tr>\n",
       "    <tr>\n",
       "      <th>143</th>\n",
       "      <td>11739</td>\n",
       "      <td>J.T. Realmuto</td>\n",
       "      <td>PHI</td>\n",
       "      <td>0.328</td>\n",
       "      <td>0.343</td>\n",
       "      <td>-0.015</td>\n",
       "    </tr>\n",
       "    <tr>\n",
       "      <th>157</th>\n",
       "      <td>12179</td>\n",
       "      <td>Maikel Franco</td>\n",
       "      <td>PHI</td>\n",
       "      <td>0.297</td>\n",
       "      <td>0.329</td>\n",
       "      <td>-0.032</td>\n",
       "    </tr>\n",
       "    <tr>\n",
       "      <th>194</th>\n",
       "      <td>10556</td>\n",
       "      <td>Cesar Hernandez</td>\n",
       "      <td>PHI</td>\n",
       "      <td>0.333</td>\n",
       "      <td>0.334</td>\n",
       "      <td>-0.001</td>\n",
       "    </tr>\n",
       "  </tbody>\n",
       "</table>\n",
       "</div>"
      ],
      "text/plain": [
       "    player_id       player_name team  FullSeason_OBP  Predicted_OBP  \\\n",
       "2       17975     Scott Kingery  PHI           0.315          0.320   \n",
       "20      16472      Rhys Hoskins  PHI           0.364          0.374   \n",
       "75       5933       Jean Segura  PHI           0.323          0.324   \n",
       "84      11579      Bryce Harper  PHI           0.372          0.373   \n",
       "102      9847  Andrew McCutchen  PHI           0.378          0.374   \n",
       "143     11739     J.T. Realmuto  PHI           0.328          0.343   \n",
       "157     12179     Maikel Franco  PHI           0.297          0.329   \n",
       "194     10556   Cesar Hernandez  PHI           0.333          0.334   \n",
       "\n",
       "     OBP_difference  \n",
       "2            -0.005  \n",
       "20           -0.010  \n",
       "75           -0.001  \n",
       "84           -0.001  \n",
       "102           0.004  \n",
       "143          -0.015  \n",
       "157          -0.032  \n",
       "194          -0.001  "
      ]
     },
     "execution_count": 53,
     "metadata": {},
     "output_type": "execute_result"
    }
   ],
   "source": [
    "obp_predictions_2019[obp_predictions_2019['team']==\"PHI\"]"
   ]
  },
  {
   "cell_type": "code",
   "execution_count": 51,
   "id": "f25e5cc4",
   "metadata": {},
   "outputs": [],
   "source": [
    "# export to a csv\n",
    "obp_predictions_2019.to_csv(\"obp_predictions_2019.csv\")"
   ]
  }
 ],
 "metadata": {
  "kernelspec": {
   "display_name": "Python 3",
   "language": "python",
   "name": "python3"
  },
  "language_info": {
   "codemirror_mode": {
    "name": "ipython",
    "version": 3
   },
   "file_extension": ".py",
   "mimetype": "text/x-python",
   "name": "python",
   "nbconvert_exporter": "python",
   "pygments_lexer": "ipython3",
   "version": "3.8.3"
  },
  "toc": {
   "base_numbering": 1,
   "nav_menu": {},
   "number_sections": true,
   "sideBar": true,
   "skip_h1_title": false,
   "title_cell": "Table of Contents",
   "title_sidebar": "Contents",
   "toc_cell": false,
   "toc_position": {},
   "toc_section_display": true,
   "toc_window_display": false
  }
 },
 "nbformat": 4,
 "nbformat_minor": 5
}
